{
 "cells": [
  {
   "cell_type": "code",
   "execution_count": null,
   "metadata": {},
   "outputs": [],
   "source": [
    "import numpy as np\n",
    "import matplotlib.pyplot as plt\n",
    "import lightgbm as lgb\n",
    "\n",
    "# Re-generate the S-curve data\n",
    "np.random.seed(0)\n",
    "x = np.linspace(0, 10, 1000)\n",
    "y = 20 / (1 + np.exp(-x + 5))\n",
    "y += (np.random.normal(0, 1, size=len(x)) * (1 + 0.5 * x))\n",
    "\n",
    "# Prepare the data for LightGBM\n",
    "data = np.column_stack((x, x**2, x**3))\n",
    "dataset = lgb.Dataset(data, label=y)\n",
    "\n",
    "# Quantiles to calculate\n",
    "quantiles = [0.05, 0.95]\n",
    "\n",
    "# Plot the original data\n",
    "plt.scatter(x, y, label='Data points', alpha=0.5)\n",
    "\n",
    "# Fit LightGBM models and plot for each quantile\n",
    "for quantile in quantiles:\n",
    "    params = {\n",
    "        'objective': 'quantile',\n",
    "        'alpha': quantile,\n",
    "        'learning_rate': 0.05,\n",
    "        'num_leaves': 10,\n",
    "        'metric': 'quantile',\n",
    "        'verbose': -1\n",
    "    }\n",
    "    \n",
    "    # Train the model\n",
    "    gbm = lgb.train(params, dataset, num_boost_round=100)\n",
    "    \n",
    "    # Predict and plot\n",
    "    y_pred = gbm.predict(data)\n",
    "    plt.plot(x, y_pred, label=f'Q({int(quantile*100)}%)')\n",
    "\n",
    "plt.xlabel('Biological Response')\n",
    "plt.ylabel('Drug Dosage')\n",
    "plt.title('Non-linear Quantile Regression with S-curve Data using LightGBM')\n",
    "plt.legend()\n",
    "plt.grid(True)\n",
    "plt.show()\n"
   ]
  },
  {
   "cell_type": "code",
   "execution_count": null,
   "metadata": {},
   "outputs": [],
   "source": [
    "X, y = make_regression(n_samples=10000,n_features=1,n_informative=1, n_targets=1,random_state=42)\n",
    "\n",
    "Xs = pd.DataFrame(X, columns = ['distance'])\n",
    "ys = pd.DataFrame(y, columns = ['time_to_buyer'])\n",
    "\n",
    "Xs['distance'] = Xs['distance'].apply(lambda x: 10 + 2 * (x + np.random.normal(loc=1))  )\n",
    "ys['time_to_buyer'] = ys['time_to_buyer'].apply(lambda x: 60 + 0.3* (x + np.random.normal(loc=1)) )\n",
    "\n",
    "df = Xs.merge(ys, left_index=True, right_index=True)"
   ]
  },
  {
   "cell_type": "code",
   "execution_count": null,
   "metadata": {},
   "outputs": [],
   "source": [
    "train_df, test_df = train_test_split(df, test_size=0.10, shuffle=True)\n",
    "X_train, y_train = train_df[['distance']], train_df[['time_to_buyer']]\n",
    "X_cal, y_cal = test_df[['distance']], test_df[['time_to_buyer']]"
   ]
  },
  {
   "cell_type": "code",
   "execution_count": null,
   "metadata": {},
   "outputs": [],
   "source": [
    "plt.scatter(X_train, y_train, s = 0.5)\n",
    "plt.xlabel('Distance')\n",
    "plt.ylabel('Distance to Buyer')"
   ]
  },
  {
   "cell_type": "code",
   "execution_count": null,
   "metadata": {},
   "outputs": [],
   "source": [
    "from sklearn.linear_model import QuantileRegressor\n",
    "from sklearn.utils.fixes import parse_version, sp_version\n",
    "solver = \"highs\" if sp_version >= parse_version(\"1.6.0\") else \"interior-point\""
   ]
  },
  {
   "cell_type": "code",
   "execution_count": null,
   "metadata": {},
   "outputs": [],
   "source": [
    "classifiers = {}\n",
    "qr_05 = QuantileRegressor(quantile = 0.05, alpha = 0, solver = solver)\n",
    "y_pred_05 = qr_05.fit(X_train, y_train).predict(X_cal)\n",
    "qr_95 = QuantileRegressor(quantile = 0.95, alpha = 0, solver = solver)\n",
    "y_pred_95 = qr_95.fit(X_train, y_train).predict(X_cal)\n",
    "classifiers[str(0.05)] = {'clf': qr_05, 'predictions': y_pred_05}\n",
    "classifiers[str(0.95)] = {'clf': qr_95, 'predictions': y_pred_95}"
   ]
  },
  {
   "cell_type": "code",
   "execution_count": null,
   "metadata": {},
   "outputs": [],
   "source": [
    "data = pd.DataFrame({'distance': X_cal.reset_index()['distance'],\n",
    "              '0.05': classifiers['0.05']['predictions'],\n",
    "              '0.95': classifiers['0.95']['predictions'],\n",
    "              'time_to_buyer': y_cal.reset_index()['time_to_buyer']})\n",
    "\n",
    "data = data.sort_values(by='distance', ascending=True)"
   ]
  },
  {
   "cell_type": "code",
   "execution_count": null,
   "metadata": {},
   "outputs": [],
   "source": [
    "plt.scatter(data['distance'], data['time_to_buyer'], s = 0.5, color = 'black')\n",
    "plt.xlabel('Distance')\n",
    "plt.ylabel('Distance to Buyer')\n",
    "plt.plot(X_cal.sort_values(by = 'distance'), data['0.05'], color = 'red')\n",
    "plt.plot(X_cal.sort_values(by = 'distance'), data['0.95'], color = 'blue')"
   ]
  },
  {
   "cell_type": "code",
   "execution_count": null,
   "metadata": {},
   "outputs": [],
   "source": [
    "n = 1000\n",
    "cal_labels = y_cal\n",
    "model_lower = qr_05.predict(X_cal)\n",
    "model_upper = qr_95.predict(X_cal)\n",
    "\n",
    "cal_labels_np = np.array(cal_labels['time_to_buyer'])\n",
    "\n",
    "cal_scores = np.maximum(cal_labels_np-model_upper, model_lower-cal_labels_np)\n",
    "\n",
    "alpha = 0.05\n",
    "qhat = np.quantile(cal_scores, np.ceil((n+1)*(1-alpha))/n, interpolation='higher')\n",
    "\n",
    "prediction_sets = [model_lower - qhat, model_upper + qhat]\n",
    "\n",
    "conformalized_05 = sorted(prediction_sets[0])\n",
    "conformalized_95 = sorted(prediction_sets[1])\n",
    "\n",
    "X_cal.sort_values(by = 'distance')"
   ]
  },
  {
   "cell_type": "code",
   "execution_count": null,
   "metadata": {},
   "outputs": [],
   "source": [
    "plt.scatter(X_cal, y_cal, s = 0.5, color = 'black')\n",
    "plt.xlabel('Distance')\n",
    "plt.ylabel('Distance to Buyer')\n",
    "plt.plot(X_cal.sort_values(by = 'distance'), conformalized_05, color = 'red')\n",
    "plt.plot(X_cal.sort_values(by = 'distance'), conformalized_95, color = 'blue')"
   ]
  },
  {
   "cell_type": "code",
   "execution_count": null,
   "metadata": {},
   "outputs": [],
   "source": []
  },
  {
   "cell_type": "code",
   "execution_count": null,
   "metadata": {},
   "outputs": [],
   "source": []
  }
 ],
 "metadata": {
  "language_info": {
   "name": "python"
  }
 },
 "nbformat": 4,
 "nbformat_minor": 2
}
