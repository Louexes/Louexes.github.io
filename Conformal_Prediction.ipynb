{
 "cells": [
  {
   "cell_type": "code",
   "execution_count": null,
   "metadata": {},
   "outputs": [],
   "source": []
  },
  {
   "cell_type": "markdown",
   "metadata": {},
   "source": [
    "In statistics, confidence and prediction intervals have been the cornerstone of uncertainty quantification for quite some time. They allow us to estimates ranges of values for population parameters with a certain degree of certainty. While well established in the field of statistics, a major drawback of these methods is their reliance on specific assumptions namely that of normality of the data (to utilize the well known Central Limit Theorem).\n",
    "Enter conformal prediction, a novel framework in statistics that has strong implications for uncertainty quantification in machine learning. Similar to traditional confidence intervals, conformal prediction constructs sets that offer a measure of uncertainty around prediction made by machine learning models. The utility and uniqueness of conformal prediction is its reliance on so called \"non-conformity measures: which capture the 'strangeness' of new instance relative to training data. This allows for a more flexible and interpretable approach to uncertainty quantification. We will evaluate its usefulness here, after describing the underlying mathematical properties that govern it."
   ]
  },
  {
   "cell_type": "markdown",
   "metadata": {},
   "source": [
    "* Let $P$ on $\\mathcal{X}\\times \\mathcal{Y}$   be some (undefined) probability distribution from which we derive the i.i.d feature and response pairs $(x_i, y_i), i=1,\\ldots,n$\n",
    "\n",
    "* Let $\\alpha\\in(0,1)$ denote the error level.\n",
    "\n",
    "* Our aim is to find and define a prediction set  \n",
    "\n",
    "$$\\hat{C}:\\mathcal{X}\\mapsto \\{\\text{subset of } \\mathcal{Y}\\}$$\n",
    "\n",
    "with the probability that for a new i.i.d. pair $(x_{n+1}, y_{n+1})$ derived from the probability function $P$\n",
    "\n",
    "$$\\text{P}\\big(y_{n+1}\\in\\hat{C}(x_{n+1})\\big)\\geq 1-\\alpha$$\n",
    "\n",
    "where the probability mass is taken over all the data $(x_i, y_i), i=1,\\ldots,n+1$\n",
    "\n",
    "* Thus, $1-\\alpha$ is the target coverage level."
   ]
  },
  {
   "cell_type": "markdown",
   "metadata": {},
   "source": []
  }
 ],
 "metadata": {
  "language_info": {
   "name": "python"
  }
 },
 "nbformat": 4,
 "nbformat_minor": 2
}
